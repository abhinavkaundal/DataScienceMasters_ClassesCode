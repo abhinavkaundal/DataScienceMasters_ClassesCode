{
 "cells": [
  {
   "cell_type": "markdown",
   "id": "a2ea2a3a-accb-4627-b50b-d00fd81e49b4",
   "metadata": {},
   "source": [
    "## Task2\n",
    "### Mall - Sale offer\n",
    "* product>=1000 rs 20% off\n",
    "* Product<=1000 rs 10% off\n",
    "* print the product price after removing the discount\n",
    "\n",
    "### Solution Statement\n",
    "* 1. input the product price\n",
    "* 2. use if statement for product>=1000 rs 20% off\n",
    "* 3. use else statement for product<=1000 rs 10% off\n",
    "\n",
    "### Task 2.1\n",
    "* print the product price after removing the discount\n",
    "* define the product price with the calculation of product discount"
   ]
  },
  {
   "cell_type": "code",
   "execution_count": null,
   "id": "6ce01e97-4818-4efc-a41d-9b584ea70eb9",
   "metadata": {},
   "outputs": [],
   "source": []
  },
  {
   "cell_type": "code",
   "execution_count": 5,
   "id": "c393d232-7572-41bd-b593-9f0da5a7d948",
   "metadata": {},
   "outputs": [
    {
     "name": "stdin",
     "output_type": "stream",
     "text": [
      "Enter the Product Price 1000\n"
     ]
    },
    {
     "name": "stdout",
     "output_type": "stream",
     "text": [
      "The final price of product is 700.0.\n"
     ]
    }
   ],
   "source": [
    "## print the product price after removing the discount\n",
    "\n",
    "## Soution 1:\n",
    "\n",
    "product_price=int(input(\"Enter the Product Price\"))\n",
    "if product_price>1000:\n",
    "    print(\"The final price of the product is {}.\".format(product_price*0.8))\n",
    "else:\n",
    "    print(\"The final price of product is {}.\".format(product_price*0.7))"
   ]
  },
  {
   "cell_type": "code",
   "execution_count": 7,
   "id": "8b5283bd-c167-4118-8687-749fd8a87347",
   "metadata": {},
   "outputs": [
    {
     "name": "stdin",
     "output_type": "stream",
     "text": [
      "Enter the Product Price 200\n"
     ]
    },
    {
     "name": "stdout",
     "output_type": "stream",
     "text": [
      "The final price of product is 180.0.\n"
     ]
    }
   ],
   "source": [
    "## print the product price after removing the discount\n",
    "\n",
    "## Soution 1: with .format()\n",
    "\n",
    "product_price=int(input(\"Enter the Product Price\"))\n",
    "if product_price>1000:\n",
    "    print(\"The final price of the product is {}.\".format(product_price*0.8))\n",
    "else:\n",
    "    print(\"The final price of product is {}.\".format(product_price*0.9))\n",
    "    "
   ]
  },
  {
   "cell_type": "code",
   "execution_count": 9,
   "id": "8b113ff6-3511-4e92-b0fb-8e1c6befc4f2",
   "metadata": {},
   "outputs": [
    {
     "data": {
      "text/plain": [
       "20"
      ]
     },
     "execution_count": 9,
     "metadata": {},
     "output_type": "execute_result"
    }
   ],
   "source": [
    "int((10/100)*200)"
   ]
  },
  {
   "cell_type": "code",
   "execution_count": 14,
   "id": "92d5fea6-dabc-421c-9b08-7bbea7576c2e",
   "metadata": {},
   "outputs": [
    {
     "name": "stdin",
     "output_type": "stream",
     "text": [
      "Enter the Product Price 200\n"
     ]
    },
    {
     "name": "stdout",
     "output_type": "stream",
     "text": [
      "The final price of product is 180.0\n"
     ]
    }
   ],
   "source": [
    "## print the product price after removing the discount\n",
    "\n",
    "## Soution 2: with f statement\n",
    "\n",
    "product_price=int(input(\"Enter the Product Price\"))\n",
    "if product_price>1000:\n",
    "    print(f\"The final price of the product is {product_price*0.8}\")\n",
    "else:\n",
    "    print(f\"The final price of product is {product_price*0.9}\")\n",
    "    "
   ]
  },
  {
   "cell_type": "markdown",
   "id": "1c5a4c8c-fc11-4f1a-8218-d2c539b0c5eb",
   "metadata": {},
   "source": [
    "## Task3 | Conditions used :if, elif, else | \n",
    "### Mall - Sale offer\n",
    "* product>3000 rs 20% off\n",
    "* print the product price after removing the discount\n",
    "\n",
    "* product>=2000 rs and <=3000 rs 30% off\n",
    "* print the product price after removing the discount\n",
    "\n",
    "* Product>=1000 rs  and <=2000 rs 40% off\n",
    "* print the product price after removing the discount"
   ]
  },
  {
   "cell_type": "code",
   "execution_count": 26,
   "id": "c593bfbc-e043-4f60-ad3f-199427596d9e",
   "metadata": {},
   "outputs": [
    {
     "name": "stdin",
     "output_type": "stream",
     "text": [
      "Enter the Product Price: 55\n"
     ]
    },
    {
     "name": "stdout",
     "output_type": "stream",
     "text": [
      "Thank you for visting\n"
     ]
    }
   ],
   "source": [
    "##Task3Soution: with f statement\n",
    "\n",
    "task3product_price=int(input(\"Enter the Product Price:\"))\n",
    "if task3product_price>=3000:\n",
    "    print(f\"The final price of the product is {product_price*0.8}\")\n",
    "elif task3product_price>=2000 and task3product_price<=3000:\n",
    "    print(f\"The final price of product is {product_price*0.7}\")\n",
    "elif task3product_price>=100 and task3product_price<=2000:\n",
    "    print(f\"The final price of product is {product_price*0.6}\")\n",
    "else:\n",
    "    print(\"Thank you for visting\")"
   ]
  },
  {
   "cell_type": "code",
   "execution_count": 27,
   "id": "1750d08e-cade-400c-9e55-b59cb0dd0772",
   "metadata": {},
   "outputs": [
    {
     "name": "stdin",
     "output_type": "stream",
     "text": [
      "Enter the Product Price: 4000\n"
     ]
    },
    {
     "name": "stdout",
     "output_type": "stream",
     "text": [
      "The final price of the product is 3200.0\n"
     ]
    }
   ],
   "source": [
    "##Task3Soution: with .format() statement\n",
    "\n",
    "task3product_price=int(input(\"Enter the Product Price:\"))\n",
    "if task3product_price>=3000:\n",
    "    print(\"The final price of the product is {}\".format(task3product_price*0.8))\n",
    "elif task3product_price>=2000 and task3product_price<=3000:\n",
    "    print(\"The final price of product is {}\".format(task3product_price*0.7))\n",
    "elif task3product_price>=100 and task3product_price<=2000:\n",
    "    print(\"The final price of product is {}\".format(task3product_price*0.6))\n",
    "else:\n",
    "    print(\"Thank you for visting\")"
   ]
  },
  {
   "cell_type": "code",
   "execution_count": 31,
   "id": "9fc4378e-f42d-453a-a0d4-23c6e36efcc1",
   "metadata": {},
   "outputs": [
    {
     "name": "stdin",
     "output_type": "stream",
     "text": [
      "Enter the Product Price: 2500\n"
     ]
    },
    {
     "name": "stdout",
     "output_type": "stream",
     "text": [
      "Secret Santa unlocked on your product. You will get a Rs 200 food card\n",
      "The final price of product is 1750.0\n"
     ]
    }
   ],
   "source": [
    "## Task with nested if statement 2: with .format() statement\n",
    "\n",
    "task3product_price=int(input(\"Enter the Product Price:\"))\n",
    "if task3product_price>=3000:\n",
    "    print(\"The final price of the product is {}\".format(task3product_price*0.8))\n",
    "elif task3product_price>=2000 and task3product_price<=3000:\n",
    "    if task3product_price==2500:\n",
    "        print(\"Secret Santa unlocked on your product. You will get a Rs 200 food card\")\n",
    "    print(\"The final price of product is {}\".format(task3product_price*0.7))\n",
    "elif task3product_price>=100 and task3product_price<=2000:\n",
    "    print(\"The final price of product is {}\".format(task3product_price*0.6))\n",
    "else:\n",
    "    print(\"Thank you for visting\")"
   ]
  },
  {
   "cell_type": "code",
   "execution_count": 34,
   "id": "0a527e38-3cb6-49b0-8b7f-60f6e8256341",
   "metadata": {},
   "outputs": [
    {
     "name": "stdin",
     "output_type": "stream",
     "text": [
      "Enter the Product Price: 2900\n"
     ]
    },
    {
     "name": "stdout",
     "output_type": "stream",
     "text": [
      "The final price of product is 2029.9999999999998\n"
     ]
    }
   ],
   "source": [
    "## Task3Soution and nested if statement (to write extra statement checks) : with .format() statement\n",
    "\n",
    "task3product_price=int(input(\"Enter the Product Price:\"))\n",
    "if task3product_price>=3000:\n",
    "    if task3product_price==4000:\n",
    "        print(\"wow!! you will get a trip to GOA\")\n",
    "    print(\"The final price of the product is {}\".format(task3product_price*0.8))\n",
    "elif task3product_price>=2000 and task3product_price<=3000:\n",
    "    if task3product_price==2500:\n",
    "        print(\"Secret Santa unlocked on your product. You will get a Rs 200 food card\")\n",
    "    print(\"The final price of product is {}\".format(task3product_price*0.7))\n",
    "elif task3product_price>=100 and task3product_price<2000:\n",
    "    print(\"The final price of product is {}\".format(task3product_price*0.6))\n",
    "else:\n",
    "    print(\"Thank you for visting\")"
   ]
  },
  {
   "cell_type": "code",
   "execution_count": 40,
   "id": "1b95c5be-fddf-4453-9e2f-f47aa0bde418",
   "metadata": {},
   "outputs": [
    {
     "name": "stdin",
     "output_type": "stream",
     "text": [
      "Enter the Number 99.5\n"
     ]
    },
    {
     "name": "stdout",
     "output_type": "stream",
     "text": [
      "The Value is less than equal to Rs 999\n"
     ]
    }
   ],
   "source": [
    "## Single statement suits\n",
    "val=float(input(\"Enter the Number\"))\n",
    "if(val<=999):print(\"The Value is less than equal to Rs 999\")\n",
    "else:\n",
    "    print(\"Thank you for your visit\")\n"
   ]
  },
  {
   "cell_type": "markdown",
   "id": "7eda9356-30dd-4c87-b193-13b5f3bae1b7",
   "metadata": {},
   "source": [
    "## Loop Statements\n",
    "1. While loop\n",
    "2. for loop\n",
    "3. nested loops\n",
    "4. Loop conrol(break,continue,pass)"
   ]
  },
  {
   "cell_type": "code",
   "execution_count": 8,
   "id": "35bdca58-aeb6-443e-a3c3-2058b912bd8a",
   "metadata": {},
   "outputs": [
    {
     "name": "stdout",
     "output_type": "stream",
     "text": [
      "46\n",
      "47\n",
      "48\n",
      "49\n",
      "50\n",
      "51\n",
      "52\n",
      "53\n",
      "54\n",
      "55\n",
      "56\n",
      "57\n",
      "58\n",
      "59\n",
      "60\n",
      "61\n"
     ]
    }
   ],
   "source": [
    "## while loop | Condition while + else |\n",
    "\n",
    "joining_age=45\n",
    "while joining_age<=60:\n",
    "    joining_age=joining_age+1\n",
    "    print(joining_age)\n"
   ]
  },
  {
   "cell_type": "code",
   "execution_count": null,
   "id": "77e1c601-c01f-42f8-9215-fe00cca2de6c",
   "metadata": {},
   "outputs": [],
   "source": []
  },
  {
   "cell_type": "code",
   "execution_count": 10,
   "id": "6332ba70-547f-4976-bfc6-f2a06f1607c7",
   "metadata": {},
   "outputs": [
    {
     "name": "stdout",
     "output_type": "stream",
     "text": [
      "1000\n",
      "900\n",
      "800\n",
      "700\n",
      "600\n",
      "500\n",
      "400\n",
      "300\n",
      "200\n",
      "100\n",
      "ATM is out of cash\n"
     ]
    }
   ],
   "source": [
    "### Atm machine with 10000 Rs\n",
    "\n",
    "total_amt=1000\n",
    "while total_amt!=0:\n",
    "    print(total_amt)\n",
    "    total_amt=total_amt-100\n",
    "else:\n",
    "    print(\"ATM is out of cash\")"
   ]
  },
  {
   "cell_type": "markdown",
   "id": "67578ebe-6b12-49d8-82f8-16171cad7eb9",
   "metadata": {},
   "source": [
    "## For loop"
   ]
  },
  {
   "cell_type": "code",
   "execution_count": 5,
   "id": "3b275d8b-8dd8-4023-b762-9956cf6844d3",
   "metadata": {},
   "outputs": [],
   "source": [
    "lst=[\"Abhinav\",\"9871461144\",\"Sonali\",\"9971675111\",\"Mrinal\",\"9971659111\"]"
   ]
  },
  {
   "cell_type": "code",
   "execution_count": 6,
   "id": "e0b2d6d6-5fde-4018-a7f2-585042477bae",
   "metadata": {},
   "outputs": [
    {
     "data": {
      "text/plain": [
       "['Abhinav', '9871461144', 'Sonali', '9971675111', 'Mrinal', '9971659111']"
      ]
     },
     "execution_count": 6,
     "metadata": {},
     "output_type": "execute_result"
    }
   ],
   "source": [
    "lst"
   ]
  },
  {
   "cell_type": "code",
   "execution_count": 13,
   "id": "adb0cc73-c7ea-495f-a580-20bfbc4732a8",
   "metadata": {},
   "outputs": [
    {
     "data": {
      "text/plain": [
       "list"
      ]
     },
     "execution_count": 13,
     "metadata": {},
     "output_type": "execute_result"
    }
   ],
   "source": [
    "type(lst)"
   ]
  },
  {
   "cell_type": "code",
   "execution_count": 7,
   "id": "32bbaad0-e8cf-422e-9d6b-ee7b86288284",
   "metadata": {},
   "outputs": [
    {
     "name": "stdout",
     "output_type": "stream",
     "text": [
      "Abhinav\n",
      "9871461144\n",
      "Sonali\n",
      "9971675111\n",
      "Mrinal\n",
      "9971659111\n"
     ]
    }
   ],
   "source": [
    "for a in lst:\n",
    "    print(a)"
   ]
  },
  {
   "cell_type": "code",
   "execution_count": 8,
   "id": "b58fade9-d153-4dc0-b157-834a3a07bdb6",
   "metadata": {},
   "outputs": [],
   "source": [
    "fruit_list=[\"mango\",\"Cherry\",\"Apple\",\"Papaya\",\"Banana\"]"
   ]
  },
  {
   "cell_type": "code",
   "execution_count": 12,
   "id": "23044709-3ab5-4694-8754-3291facb52aa",
   "metadata": {},
   "outputs": [
    {
     "name": "stdout",
     "output_type": "stream",
     "text": [
      "mango\n",
      "Cherry\n",
      "Apple\n",
      "Papaya\n",
      "Banana\n"
     ]
    }
   ],
   "source": [
    "for x in fruit_list:\n",
    "    print(x)"
   ]
  },
  {
   "cell_type": "code",
   "execution_count": 11,
   "id": "e6c11ffe-6c81-47a4-a884-8791545423d4",
   "metadata": {},
   "outputs": [
    {
     "name": "stdout",
     "output_type": "stream",
     "text": [
      "mango\n",
      "Cherry\n",
      "Apple\n",
      "we found a Apple\n"
     ]
    }
   ],
   "source": [
    "## for loop with break statement\n",
    "for x in fruit_list:\n",
    "    print(x)\n",
    "    if x==\"Apple\":\n",
    "        print(\"we found a Apple\")\n",
    "        break"
   ]
  },
  {
   "cell_type": "code",
   "execution_count": 13,
   "id": "cebc356b-35d3-4f8c-8e78-efbb343e3b42",
   "metadata": {},
   "outputs": [
    {
     "name": "stdout",
     "output_type": "stream",
     "text": [
      "m\n",
      "a\n",
      "n\n",
      "g\n",
      "o\n"
     ]
    }
   ],
   "source": [
    "## string is also a collection of elements\n",
    "\n",
    "fruit=\"mango\"\n",
    "for b in fruit:\n",
    "    print(b)"
   ]
  },
  {
   "cell_type": "code",
   "execution_count": 15,
   "id": "e766a5e4-fa08-4b47-ace2-3a3d7473330f",
   "metadata": {},
   "outputs": [
    {
     "name": "stdout",
     "output_type": "stream",
     "text": [
      "mango"
     ]
    }
   ],
   "source": [
    "## string is also a collection of elements | print elements in 1 line|\n",
    "\n",
    "fruit=\"mango\"\n",
    "for b in fruit:\n",
    "    print(b,end=\"\")"
   ]
  },
  {
   "cell_type": "code",
   "execution_count": 17,
   "id": "52c44c05-9da7-475d-ba6c-8e116f817a81",
   "metadata": {},
   "outputs": [
    {
     "name": "stdout",
     "output_type": "stream",
     "text": [
      "*\n",
      "**\n",
      "***\n",
      "****\n",
      "*****\n",
      "******\n",
      "*******\n"
     ]
    }
   ],
   "source": [
    "### Nested Loops\n",
    "\n",
    "n=7\n",
    "\n",
    "for i in range(0,n):\n",
    "    for j in range(0,i+1):\n",
    "        print(\"*\",end=\"\")\n",
    "    print(\"\\r\")"
   ]
  },
  {
   "cell_type": "code",
   "execution_count": 18,
   "id": "29190639-a155-46bd-8294-4ca9b69ecf2a",
   "metadata": {},
   "outputs": [],
   "source": [
    "## Assignment : have to create an equilateral triangle"
   ]
  },
  {
   "cell_type": "code",
   "execution_count": 19,
   "id": "faaa0ad0-3f4e-4ff4-acbd-1ceb795cbf6f",
   "metadata": {},
   "outputs": [],
   "source": [
    "## Loop control\n",
    "## Break and Continue\n",
    "\n",
    "fruit_list=[\"mango\",\"Cherry\",\"Apple\",\"Papaya\",\"Banana\"]"
   ]
  },
  {
   "cell_type": "code",
   "execution_count": 20,
   "id": "13b47942-a376-42fd-b5b3-2279c0e95e71",
   "metadata": {},
   "outputs": [
    {
     "name": "stdout",
     "output_type": "stream",
     "text": [
      "mango\n",
      "Cherry\n",
      "The fruit is apple\n"
     ]
    }
   ],
   "source": [
    "## Break control\n",
    "\n",
    "for i in fruit_list:\n",
    "    if i==\"Apple\":\n",
    "        print(\"The fruit is apple\")\n",
    "        break\n",
    "    print(i)"
   ]
  },
  {
   "cell_type": "code",
   "execution_count": 22,
   "id": "11ad158e-2fda-44b1-b1a1-38690f7f36e8",
   "metadata": {},
   "outputs": [
    {
     "name": "stdout",
     "output_type": "stream",
     "text": [
      "mango\n",
      "Cherry\n",
      "The fruit is apple\n",
      "Papaya\n",
      "Banana\n"
     ]
    }
   ],
   "source": [
    "## Continue control\n",
    "\n",
    "for i in fruit_list:\n",
    "    if i==\"Apple\":\n",
    "        print(\"The fruit is apple\")\n",
    "        continue\n",
    "    print(i)"
   ]
  },
  {
   "cell_type": "code",
   "execution_count": null,
   "id": "6499c6b8-921e-4f83-ae7f-014b2f8d2058",
   "metadata": {},
   "outputs": [],
   "source": []
  }
 ],
 "metadata": {
  "kernelspec": {
   "display_name": "Python 3 (ipykernel)",
   "language": "python",
   "name": "python3"
  },
  "language_info": {
   "codemirror_mode": {
    "name": "ipython",
    "version": 3
   },
   "file_extension": ".py",
   "mimetype": "text/x-python",
   "name": "python",
   "nbconvert_exporter": "python",
   "pygments_lexer": "ipython3",
   "version": "3.10.8"
  }
 },
 "nbformat": 4,
 "nbformat_minor": 5
}
