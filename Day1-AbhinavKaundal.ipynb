{
 "cells": [
  {
   "cell_type": "markdown",
   "id": "c5d8c353-cf47-4b5f-9c98-062302326c4e",
   "metadata": {
    "tags": []
   },
   "source": [
    "## LEARN Python Objects, Number & Booleans, Strings."
   ]
  },
  {
   "cell_type": "code",
   "execution_count": null,
   "id": "79827bb6-ac1b-4476-a8ea-1a96031d1ece",
   "metadata": {},
   "outputs": [],
   "source": [
    "## Print function : This function is used to print the Value"
   ]
  },
  {
   "cell_type": "code",
   "execution_count": null,
   "id": "44fe680b-fccb-4931-8546-834b8d9fa9ba",
   "metadata": {},
   "outputs": [
    {
     "name": "stdout",
     "output_type": "stream",
     "text": [
      "5\n"
     ]
    }
   ],
   "source": [
    "a=5\n",
    "b=2\n",
    "print(a)"
   ]
  },
  {
   "cell_type": "code",
   "execution_count": null,
   "id": "25b8c42c-6efe-4cbf-84b6-acdcbd1cf90a",
   "metadata": {},
   "outputs": [
    {
     "name": "stdout",
     "output_type": "stream",
     "text": [
      "2\n"
     ]
    }
   ],
   "source": [
    "a=5\n",
    "b=2\n",
    "print(b)"
   ]
  },
  {
   "cell_type": "code",
   "execution_count": null,
   "id": "32f2ce58-5a67-40e3-8ce6-bbc252d5e955",
   "metadata": {},
   "outputs": [
    {
     "name": "stdout",
     "output_type": "stream",
     "text": [
      "Hello this is my day in below mentioned course \n",
      " Data Science Masters (Impact Batch)\n"
     ]
    }
   ],
   "source": [
    "print(\"Hello this is my day in below mentioned course \\n Data Science Masters (Impact Batch)\")"
   ]
  },
  {
   "cell_type": "markdown",
   "id": "9b842b26-3156-4eca-9e64-cc50697876d2",
   "metadata": {
    "tags": []
   },
   "source": [
    "# Variable Assignment"
   ]
  },
  {
   "cell_type": "code",
   "execution_count": null,
   "id": "8680fb75-1142-4dc5-8e77-86c1bdf7f347",
   "metadata": {},
   "outputs": [],
   "source": [
    "## Best Practices"
   ]
  },
  {
   "cell_type": "markdown",
   "id": "2872698a-067b-4977-9cd9-f591ab96e639",
   "metadata": {},
   "source": [
    "#### Don't start the variable names with number"
   ]
  },
  {
   "cell_type": "code",
   "execution_count": null,
   "id": "9c530d1d-0ff1-4dc5-b05d-067973da0e35",
   "metadata": {},
   "outputs": [],
   "source": [
    "## BadWay\n",
    "## 1name"
   ]
  },
  {
   "cell_type": "code",
   "execution_count": null,
   "id": "4c864e96-ff91-446c-9a58-447fedce3514",
   "metadata": {},
   "outputs": [],
   "source": [
    "##CorrectWay\n",
    "## name1"
   ]
  },
  {
   "cell_type": "markdown",
   "id": "28c70be4-5fb5-4796-8d87-07afc7dc0e0b",
   "metadata": {},
   "source": [
    "#### Variable Namea are case sensitive"
   ]
  },
  {
   "cell_type": "code",
   "execution_count": null,
   "id": "f21859fb-ded5-4a52-8e33-91010ae2cf6b",
   "metadata": {},
   "outputs": [
    {
     "name": "stdout",
     "output_type": "stream",
     "text": [
      "aurionpro\n",
      "AurionPro Solutions Ltd\n"
     ]
    }
   ],
   "source": [
    "company='aurionpro'\n",
    "Company=\"AurionPro Solutions Ltd\"\n",
    "print(company)\n",
    "print(Company)"
   ]
  },
  {
   "cell_type": "code",
   "execution_count": null,
   "id": "0eb04d85-4bcf-479c-8e0d-1ee289e78afc",
   "metadata": {},
   "outputs": [
    {
     "data": {
      "text/plain": [
       "'\\nint,float,len,complex,bool,str,return,yield\\n'"
      ]
     },
     "execution_count": 70,
     "metadata": {},
     "output_type": "execute_result"
    }
   ],
   "source": [
    "## Reserved Keywords\n",
    "'''\n",
    "int,float,len,complex,bool,str,return,yield\n",
    "'''"
   ]
  },
  {
   "cell_type": "markdown",
   "id": "b9b24b4a-1db9-4cec-b158-f2318a947284",
   "metadata": {},
   "source": [
    "#### STRINGS"
   ]
  },
  {
   "cell_type": "code",
   "execution_count": null,
   "id": "1adf1071-d9ab-4958-9cc2-503bb13b27bd",
   "metadata": {},
   "outputs": [
    {
     "data": {
      "text/plain": [
       "'Abhinav'"
      ]
     },
     "execution_count": 29,
     "metadata": {},
     "output_type": "execute_result"
    }
   ],
   "source": [
    "name=\"Abhinav\"\n",
    "name"
   ]
  },
  {
   "cell_type": "code",
   "execution_count": null,
   "id": "46014b09-1dab-434c-9410-630c73585dd1",
   "metadata": {},
   "outputs": [
    {
     "data": {
      "text/plain": [
       "'Kaundal'"
      ]
     },
     "execution_count": 51,
     "metadata": {},
     "output_type": "execute_result"
    }
   ],
   "source": [
    "lastname=\"Kaundal\"\n",
    "lastname"
   ]
  },
  {
   "cell_type": "code",
   "execution_count": null,
   "id": "7ae60b86-f830-4638-9031-a1e32d4e8f79",
   "metadata": {},
   "outputs": [
    {
     "data": {
      "text/plain": [
       "'Data Science Masters'"
      ]
     },
     "execution_count": 52,
     "metadata": {},
     "output_type": "execute_result"
    }
   ],
   "source": [
    "batch=\"Data Science Masters\"\n",
    "batch"
   ]
  },
  {
   "cell_type": "code",
   "execution_count": null,
   "id": "c152d221-cb9f-447c-b043-452d5a4d1b6c",
   "metadata": {},
   "outputs": [
    {
     "data": {
      "text/plain": [
       "str"
      ]
     },
     "execution_count": 39,
     "metadata": {},
     "output_type": "execute_result"
    }
   ],
   "source": [
    "type(\"\")"
   ]
  },
  {
   "cell_type": "code",
   "execution_count": null,
   "id": "a0764bb5-dad9-446e-b5a5-89d1f8fbc911",
   "metadata": {},
   "outputs": [
    {
     "data": {
      "text/plain": [
       "str"
      ]
     },
     "execution_count": 40,
     "metadata": {},
     "output_type": "execute_result"
    }
   ],
   "source": [
    "type('')"
   ]
  },
  {
   "cell_type": "markdown",
   "id": "ce7ab564-2577-4b01-a87b-d3196549f88f",
   "metadata": {},
   "source": [
    "#### NUMBERS"
   ]
  },
  {
   "cell_type": "code",
   "execution_count": null,
   "id": "34eb913f-892f-4f06-a642-d20a48e89100",
   "metadata": {},
   "outputs": [],
   "source": [
    "number=10"
   ]
  },
  {
   "cell_type": "code",
   "execution_count": null,
   "id": "e4193184-fafd-4bbc-ba74-49138406c610",
   "metadata": {},
   "outputs": [
    {
     "data": {
      "text/plain": [
       "int"
      ]
     },
     "execution_count": 45,
     "metadata": {},
     "output_type": "execute_result"
    }
   ],
   "source": [
    "type(number)"
   ]
  },
  {
   "cell_type": "code",
   "execution_count": null,
   "id": "a563288b-a1ba-4861-8a27-20cad5c13be3",
   "metadata": {},
   "outputs": [
    {
     "data": {
      "text/plain": [
       "100"
      ]
     },
     "execution_count": 46,
     "metadata": {},
     "output_type": "execute_result"
    }
   ],
   "source": [
    "number=100\n",
    "number"
   ]
  },
  {
   "cell_type": "code",
   "execution_count": null,
   "id": "34f4766e-d26d-4d24-9f35-318298963f2e",
   "metadata": {},
   "outputs": [
    {
     "data": {
      "text/plain": [
       "2.5"
      ]
     },
     "execution_count": 48,
     "metadata": {},
     "output_type": "execute_result"
    }
   ],
   "source": [
    "decimal_num=2.5\n",
    "decimal_num"
   ]
  },
  {
   "cell_type": "code",
   "execution_count": null,
   "id": "d162db17-3050-4277-9f52-565563925e51",
   "metadata": {},
   "outputs": [
    {
     "data": {
      "text/plain": [
       "float"
      ]
     },
     "execution_count": 49,
     "metadata": {},
     "output_type": "execute_result"
    }
   ],
   "source": [
    "type(decimal_num)"
   ]
  },
  {
   "cell_type": "code",
   "execution_count": null,
   "id": "8b51710f-5951-4fed-bab1-e01f4dd14073",
   "metadata": {},
   "outputs": [
    {
     "data": {
      "text/plain": [
       "(1+2j)"
      ]
     },
     "execution_count": 54,
     "metadata": {},
     "output_type": "execute_result"
    }
   ],
   "source": [
    "1+2j"
   ]
  },
  {
   "cell_type": "code",
   "execution_count": null,
   "id": "f5fd53e2-b48c-4fb8-b071-4bd218575a4c",
   "metadata": {},
   "outputs": [
    {
     "data": {
      "text/plain": [
       "complex"
      ]
     },
     "execution_count": 56,
     "metadata": {},
     "output_type": "execute_result"
    }
   ],
   "source": [
    "type(1+2j)"
   ]
  },
  {
   "cell_type": "markdown",
   "id": "5fb7fb91-776a-4d73-b169-5ba5a288ee34",
   "metadata": {},
   "source": [
    "#### BOOLEANS"
   ]
  },
  {
   "cell_type": "code",
   "execution_count": null,
   "id": "a40d4880-4593-4259-8cd5-5ba0d064841f",
   "metadata": {},
   "outputs": [
    {
     "data": {
      "text/plain": [
       "True"
      ]
     },
     "execution_count": 71,
     "metadata": {},
     "output_type": "execute_result"
    }
   ],
   "source": [
    "True"
   ]
  },
  {
   "cell_type": "code",
   "execution_count": null,
   "id": "5105f084-b8af-455e-af85-20c25e2a6e55",
   "metadata": {},
   "outputs": [
    {
     "data": {
      "text/plain": [
       "False"
      ]
     },
     "execution_count": 72,
     "metadata": {},
     "output_type": "execute_result"
    }
   ],
   "source": [
    "False"
   ]
  },
  {
   "cell_type": "code",
   "execution_count": null,
   "id": "5372d563-9efc-4eec-8a90-fa2b053719cf",
   "metadata": {},
   "outputs": [
    {
     "data": {
      "text/plain": [
       "False"
      ]
     },
     "execution_count": 73,
     "metadata": {},
     "output_type": "execute_result"
    }
   ],
   "source": [
    "True and False"
   ]
  },
  {
   "cell_type": "code",
   "execution_count": null,
   "id": "fc02f85e-68c7-4e31-99f8-562f689b1516",
   "metadata": {},
   "outputs": [
    {
     "data": {
      "text/plain": [
       "True"
      ]
     },
     "execution_count": 74,
     "metadata": {},
     "output_type": "execute_result"
    }
   ],
   "source": [
    "True or False"
   ]
  },
  {
   "cell_type": "code",
   "execution_count": null,
   "id": "c8bc662f-a2b6-4f71-ba4a-4676a220f2aa",
   "metadata": {},
   "outputs": [
    {
     "data": {
      "text/plain": [
       "False"
      ]
     },
     "execution_count": 75,
     "metadata": {},
     "output_type": "execute_result"
    }
   ],
   "source": [
    "not True"
   ]
  },
  {
   "cell_type": "code",
   "execution_count": null,
   "id": "0ae49f2b-73b2-4903-ba77-9e1f98bf4014",
   "metadata": {},
   "outputs": [
    {
     "data": {
      "text/plain": [
       "True"
      ]
     },
     "execution_count": 76,
     "metadata": {},
     "output_type": "execute_result"
    }
   ],
   "source": [
    "not False"
   ]
  },
  {
   "cell_type": "code",
   "execution_count": null,
   "id": "c5214b46-0f32-4901-9ee9-377c604e728c",
   "metadata": {},
   "outputs": [
    {
     "data": {
      "text/plain": [
       "bool"
      ]
     },
     "execution_count": 78,
     "metadata": {},
     "output_type": "execute_result"
    }
   ],
   "source": [
    "type(True)"
   ]
  },
  {
   "cell_type": "code",
   "execution_count": null,
   "id": "7ce61817-da31-46aa-8b55-890fcb3b5261",
   "metadata": {},
   "outputs": [
    {
     "data": {
      "text/plain": [
       "bool"
      ]
     },
     "execution_count": 79,
     "metadata": {},
     "output_type": "execute_result"
    }
   ],
   "source": [
    "type(False)"
   ]
  },
  {
   "cell_type": "code",
   "execution_count": null,
   "id": "324f3dbe-a1f8-4213-954b-ff34f4164f01",
   "metadata": {},
   "outputs": [
    {
     "data": {
      "text/plain": [
       "bool"
      ]
     },
     "execution_count": 80,
     "metadata": {},
     "output_type": "execute_result"
    }
   ],
   "source": [
    "type(True and False)"
   ]
  },
  {
   "cell_type": "code",
   "execution_count": null,
   "id": "c4dccdf0-a9ea-4906-acf7-54dbe8b28b4a",
   "metadata": {},
   "outputs": [
    {
     "data": {
      "text/plain": [
       "bool"
      ]
     },
     "execution_count": 81,
     "metadata": {},
     "output_type": "execute_result"
    }
   ],
   "source": [
    "type(True or False)"
   ]
  },
  {
   "cell_type": "code",
   "execution_count": null,
   "id": "bb21945d-a4b9-46c8-83d6-5604cd656cc9",
   "metadata": {},
   "outputs": [
    {
     "data": {
      "text/plain": [
       "bool"
      ]
     },
     "execution_count": 82,
     "metadata": {},
     "output_type": "execute_result"
    }
   ],
   "source": [
    "type(not True)"
   ]
  },
  {
   "cell_type": "code",
   "execution_count": null,
   "id": "3a583268-2cf8-46d3-b119-4d6fcdf67d96",
   "metadata": {},
   "outputs": [
    {
     "data": {
      "text/plain": [
       "bool"
      ]
     },
     "execution_count": 83,
     "metadata": {},
     "output_type": "execute_result"
    }
   ],
   "source": [
    "type(not False)"
   ]
  },
  {
   "cell_type": "markdown",
   "id": "155d68bc-354b-4528-99ef-3b51fcdc0b4f",
   "metadata": {},
   "source": [
    "#### Dynamic Typing"
   ]
  },
  {
   "cell_type": "code",
   "execution_count": null,
   "id": "5bbc9cd5-de02-43d3-b009-d8643c655e19",
   "metadata": {},
   "outputs": [],
   "source": [
    "a=12\n",
    "str1=\"Abhinav\"\n",
    "a=\"var\""
   ]
  },
  {
   "cell_type": "code",
   "execution_count": null,
   "id": "7c9fe62b-c77d-4452-abbd-481bb62af9c0",
   "metadata": {},
   "outputs": [
    {
     "name": "stdout",
     "output_type": "stream",
     "text": [
      "var\n"
     ]
    }
   ],
   "source": [
    "print(a)"
   ]
  },
  {
   "cell_type": "code",
   "execution_count": null,
   "id": "b56bc383-553c-4024-a75e-75d4765aa7fa",
   "metadata": {},
   "outputs": [
    {
     "data": {
      "text/plain": [
       "1"
      ]
     },
     "execution_count": 88,
     "metadata": {},
     "output_type": "execute_result"
    }
   ],
   "source": [
    "int(1.54)"
   ]
  },
  {
   "cell_type": "markdown",
   "id": "07529709-8c90-4ff7-95af-86a8c29515f4",
   "metadata": {},
   "source": [
    "#### Concatination between different Types"
   ]
  },
  {
   "cell_type": "code",
   "execution_count": null,
   "id": "f5ef12f2-d730-4349-b32d-959a1946996f",
   "metadata": {},
   "outputs": [
    {
     "data": {
      "text/plain": [
       "'11'"
      ]
     },
     "execution_count": 90,
     "metadata": {},
     "output_type": "execute_result"
    }
   ],
   "source": [
    "\"1\" + \"1\""
   ]
  },
  {
   "cell_type": "code",
   "execution_count": null,
   "id": "859824ad-6362-48fe-a277-aad7fe729bc8",
   "metadata": {},
   "outputs": [
    {
     "data": {
      "text/plain": [
       "'11'"
      ]
     },
     "execution_count": 91,
     "metadata": {},
     "output_type": "execute_result"
    }
   ],
   "source": [
    "\"1\"+\"1\""
   ]
  },
  {
   "cell_type": "code",
   "execution_count": null,
   "id": "176f9075-d752-44e6-bf50-d33469a93384",
   "metadata": {},
   "outputs": [
    {
     "data": {
      "text/plain": [
       "2"
      ]
     },
     "execution_count": 93,
     "metadata": {},
     "output_type": "execute_result"
    }
   ],
   "source": [
    "int(\"1\")+int(\"1\")"
   ]
  },
  {
   "cell_type": "code",
   "execution_count": null,
   "id": "616b73fd-ba07-4ee8-8131-bc2c1e5f5f4a",
   "metadata": {},
   "outputs": [
    {
     "data": {
      "text/plain": [
       "'1111111111111111111111111111111111111111111111111111111111111111111111111111111111111111111111111111'"
      ]
     },
     "execution_count": 94,
     "metadata": {},
     "output_type": "execute_result"
    }
   ],
   "source": [
    "\"1\" * 100"
   ]
  }
 ],
 "metadata": {
  "kernelspec": {
   "display_name": "Python 3",
   "language": "python",
   "name": "python3"
  },
  "language_info": {
   "codemirror_mode": {
    "name": "ipython",
    "version": 3
   },
   "file_extension": ".py",
   "mimetype": "text/x-python",
   "name": "python",
   "nbconvert_exporter": "python",
   "pygments_lexer": "ipython3"
  },
  "vscode": {
   "interpreter": {
    "hash": "31f2aee4e71d21fbe5cf8b01ff0e069b9275f58929596ceb00d14d90e3e16cd6"
   }
  }
 },
 "nbformat": 4,
 "nbformat_minor": 5
}
