{
 "cells": [
  {
   "cell_type": "markdown",
   "id": "c23202d1-56bc-4672-8d7d-5f3089e57776",
   "metadata": {
    "jp-MarkdownHeadingCollapsed": true,
    "tags": []
   },
   "source": [
    "## Question 1"
   ]
  },
  {
   "cell_type": "code",
   "execution_count": 22,
   "id": "9efbde6e-4504-485e-8a1e-f59bedcb4f6d",
   "metadata": {},
   "outputs": [
    {
     "name": "stdin",
     "output_type": "stream",
     "text": [
      "Enter your marks percentage 10\n"
     ]
    },
    {
     "name": "stdout",
     "output_type": "stream",
     "text": [
      "Congratulation!! Your grade is 'D'\n"
     ]
    }
   ],
   "source": [
    "\n",
    "marks=int(input(\"Enter your marks percentage\"))\n",
    "if marks>90:\n",
    "    print(\"Congratulation!! Your grade is 'A'\")\n",
    "elif marks>80 and marks<=90:\n",
    "    print(\"Congratulations!! Your grade is 'B'\")\n",
    "elif marks>=60 and marks<=80:\n",
    "    print(\"Congratulations!! Your grade is 'C'\")\n",
    "else:\n",
    "    print(\"Congratulation!! Your grade is 'D'\")"
   ]
  },
  {
   "cell_type": "markdown",
   "id": "9b9d6baf-3816-4792-9131-943147e1f085",
   "metadata": {
    "jp-MarkdownHeadingCollapsed": true,
    "tags": []
   },
   "source": [
    "## Question 2"
   ]
  },
  {
   "cell_type": "code",
   "execution_count": 28,
   "id": "c2a34645-a92c-413e-9fbe-6b06bde79097",
   "metadata": {},
   "outputs": [
    {
     "name": "stdin",
     "output_type": "stream",
     "text": [
      "Enter your price of a bike 5000\n"
     ]
    },
    {
     "name": "stdout",
     "output_type": "stream",
     "text": [
      "Rs 250.0 is your road tax to be paid.\n"
     ]
    }
   ],
   "source": [
    "## print with f statement\n",
    "\n",
    "cost_price=float(input(\"Enter your price of a bike\"))\n",
    "if cost_price>100000:\n",
    "    tax=0.15\n",
    "elif cost_price>50000 and cost_price<=100000:\n",
    "    tax=0.10\n",
    "elif cost_price<=50000:\n",
    "    tax=0.05\n",
    "road_tax=cost_price*tax\n",
    "print(f\"Rs {road_tax} is your road tax to be paid.\")"
   ]
  },
  {
   "cell_type": "code",
   "execution_count": null,
   "id": "b14cc7ca-4808-4032-8082-b54140f8fbe7",
   "metadata": {},
   "outputs": [
    {
     "data": {
      "text/plain": [
       "250.0"
      ]
     },
     "execution_count": 24,
     "metadata": {},
     "output_type": "execute_result"
    }
   ],
   "source": [
    "(5/100)*5000"
   ]
  },
  {
   "cell_type": "code",
   "execution_count": 30,
   "id": "fc876dac-18fa-42e8-8c3e-64196586b214",
   "metadata": {},
   "outputs": [
    {
     "name": "stdin",
     "output_type": "stream",
     "text": [
      "Enter your price of a bike 5000\n"
     ]
    },
    {
     "name": "stdout",
     "output_type": "stream",
     "text": [
      "Rs 250.0 is your road tax to be paid\n"
     ]
    }
   ],
   "source": [
    "## print with format statement\n",
    "\n",
    "cost_price=int(input(\"Enter your price of a bike\"))\n",
    "if cost_price>100000:\n",
    "    tax=0.15\n",
    "elif cost_price>50000 and cost_price<=100000:\n",
    "    tax=0.10\n",
    "elif cost_price<=50000:\n",
    "    tax=0.05\n",
    "road_tax=cost_price*tax\n",
    "print(\"Rs {} is your road tax to be paid\".format(road_tax))"
   ]
  },
  {
   "cell_type": "markdown",
   "id": "ae17e09b-fc8d-423a-a5e0-917251758cb4",
   "metadata": {
    "tags": []
   },
   "source": [
    "## Question 3"
   ]
  },
  {
   "cell_type": "code",
   "execution_count": 9,
   "id": "e8bcb5c9-659d-4f90-a1e9-8be9757144f2",
   "metadata": {},
   "outputs": [
    {
     "name": "stdin",
     "output_type": "stream",
     "text": [
      "Enter your city delhi\n"
     ]
    },
    {
     "name": "stdout",
     "output_type": "stream",
     "text": [
      "The monument in DELHI is 'Red Fort'\n"
     ]
    }
   ],
   "source": [
    "\n",
    "\n",
    "city=input(\"Enter your city\")\n",
    "if city.upper()==\"DELHI\":\n",
    "    print(\"The monument in DELHI is 'Red Fort'\")\n",
    "elif city.upper()==\"JAIPUR\":\n",
    "    print(\"The monument in JAIPUR is 'Jal Mahal'\")\n",
    "elif city.upper()==\"AGRA\":\n",
    "    print(\"The monument in AGRA is 'Taj Mahal'\")"
   ]
  },
  {
   "cell_type": "code",
   "execution_count": null,
   "id": "8aa5ef6c-2dc2-4535-aded-8c8ce4a6ed54",
   "metadata": {},
   "outputs": [],
   "source": []
  },
  {
   "cell_type": "code",
   "execution_count": null,
   "id": "fc15eacd-3aea-4fce-ac68-4698deb81bea",
   "metadata": {},
   "outputs": [],
   "source": []
  },
  {
   "cell_type": "code",
   "execution_count": null,
   "id": "d56fc2f5-a43c-4631-b9ac-87c1de2684c8",
   "metadata": {},
   "outputs": [],
   "source": []
  },
  {
   "cell_type": "code",
   "execution_count": null,
   "id": "9517fd1c-806a-4263-8f99-fd78373636ef",
   "metadata": {},
   "outputs": [],
   "source": []
  },
  {
   "cell_type": "code",
   "execution_count": null,
   "id": "176daac5-039f-476a-b9ab-cd954c09719d",
   "metadata": {},
   "outputs": [],
   "source": []
  },
  {
   "cell_type": "code",
   "execution_count": null,
   "id": "d7509ef8-c996-4a97-9049-c52fda879ea3",
   "metadata": {},
   "outputs": [],
   "source": []
  },
  {
   "cell_type": "code",
   "execution_count": null,
   "id": "5903e6e2-c3df-42a1-ba26-79d88d36c91a",
   "metadata": {},
   "outputs": [],
   "source": []
  },
  {
   "cell_type": "code",
   "execution_count": null,
   "id": "55868d90-576e-4361-ad6a-94f54bc87673",
   "metadata": {},
   "outputs": [],
   "source": []
  },
  {
   "cell_type": "code",
   "execution_count": null,
   "id": "2bd674f2-179f-4c15-a943-eb9642f85cc9",
   "metadata": {},
   "outputs": [],
   "source": []
  }
 ],
 "metadata": {
  "kernelspec": {
   "display_name": "Python 3 (ipykernel)",
   "language": "python",
   "name": "python3"
  },
  "language_info": {
   "codemirror_mode": {
    "name": "ipython",
    "version": 3
   },
   "file_extension": ".py",
   "mimetype": "text/x-python",
   "name": "python",
   "nbconvert_exporter": "python",
   "pygments_lexer": "ipython3",
   "version": "3.10.8"
  }
 },
 "nbformat": 4,
 "nbformat_minor": 5
}
