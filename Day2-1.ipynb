{
 "cells": [
  {
   "cell_type": "code",
   "execution_count": 1,
   "id": "4183224a-a57a-4a95-81b9-cc92a2d5733a",
   "metadata": {},
   "outputs": [
    {
     "data": {
      "text/plain": [
       "0"
      ]
     },
     "execution_count": 1,
     "metadata": {},
     "output_type": "execute_result"
    }
   ],
   "source": [
    "int()"
   ]
  },
  {
   "cell_type": "code",
   "execution_count": 2,
   "id": "a5868f3f-7ff4-45c0-92da-2ba03e84bcf5",
   "metadata": {},
   "outputs": [
    {
     "name": "stdout",
     "output_type": "stream",
     "text": [
      "Hello World\n"
     ]
    }
   ],
   "source": [
    "print(\"Hello World\")"
   ]
  },
  {
   "cell_type": "code",
   "execution_count": 4,
   "id": "36040a1f-e505-4352-8151-4dc40ecaff69",
   "metadata": {},
   "outputs": [
    {
     "name": "stdout",
     "output_type": "stream",
     "text": [
      "My age is: 32\n"
     ]
    }
   ],
   "source": [
    "age=32\n",
    "print(\"My age is:\",age)"
   ]
  },
  {
   "cell_type": "code",
   "execution_count": 5,
   "id": "f7302c5a-5155-46a7-907b-24f42ce8ab64",
   "metadata": {},
   "outputs": [
    {
     "name": "stdout",
     "output_type": "stream",
     "text": [
      "My age is 32\n"
     ]
    }
   ],
   "source": [
    "print(f\"My age is {age}\")"
   ]
  },
  {
   "cell_type": "code",
   "execution_count": 8,
   "id": "86f5c20d-0533-45c0-a728-8a621987ce07",
   "metadata": {},
   "outputs": [
    {
     "name": "stdout",
     "output_type": "stream",
     "text": [
      "My name is Abhinav\n",
      "Today is my 2nd Data Science Masters Class\n"
     ]
    }
   ],
   "source": [
    "name=\"Abhinav\"\n",
    "classdate=\"2nd Data Science Masters Class\"\n",
    "print(\"My name is\",name)\n",
    "print(f\"Today is my {classdate}\")"
   ]
  },
  {
   "cell_type": "code",
   "execution_count": null,
   "id": "68cb859b-a393-464b-81e0-20d987022558",
   "metadata": {},
   "outputs": [],
   "source": [
    "##formats()\n",
    "name=\"Abhinav Kaundal\"\n",
    "age=\"35\"\n",
    "print(\"My Name is {} and age is {}\".format(name,age))"
   ]
  },
  {
   "cell_type": "code",
   "execution_count": 10,
   "id": "b3e97fba-67e9-4272-be56-f966a84b7c8d",
   "metadata": {},
   "outputs": [
    {
     "name": "stdout",
     "output_type": "stream",
     "text": [
      "My Name is Abhinav Kaundal and age is 35. I have started my2nd Data Science Masters Class\n"
     ]
    }
   ],
   "source": [
    "##formats()\n",
    "name=\"Abhinav Kaundal\"\n",
    "age=\"35\"\n",
    "print(\"My Name is {} and age is {}. I have started my{}\".format(name,age,classdate))"
   ]
  },
  {
   "cell_type": "code",
   "execution_count": 11,
   "id": "aad89d41-1b1c-4e95-8c78-e78bc8788b3c",
   "metadata": {},
   "outputs": [
    {
     "name": "stdout",
     "output_type": "stream",
     "text": [
      "My Name is Abhinav Kaundal and age is 35\n"
     ]
    }
   ],
   "source": [
    "print(\"My Name is {Firstname} and age is {myage}\".format(Firstname=name,myage=age))"
   ]
  },
  {
   "cell_type": "code",
   "execution_count": 13,
   "id": "ab86dc93-75ff-4536-97ad-78873979a2bf",
   "metadata": {},
   "outputs": [
    {
     "name": "stdout",
     "output_type": "stream",
     "text": [
      "My age is 32 and i have completed my degree of BE with the name of Abhinav Kaundal. I'm here to learn Data Science Masters.\n"
     ]
    }
   ],
   "source": [
    "name=\"Abhinav Kaundal\"\n",
    "age=\"32\"\n",
    "degree=\"BE\"\n",
    "coursename=\"Data Science Masters\"\n",
    "print(\"My age is {} and i have completed my degree of {} with the name of {}. I'm here to learn {}.\" .format(age,degree,name,coursename))"
   ]
  },
  {
   "cell_type": "code",
   "execution_count": 16,
   "id": "36c1bff6-c6ec-477c-a4a9-0279022a44d8",
   "metadata": {},
   "outputs": [
    {
     "name": "stdout",
     "output_type": "stream",
     "text": [
      "My age is 32 and i have completed my degree of BE with the name of Abhinav Kaundal. I'm here to learn Data Science Masters.\n"
     ]
    }
   ],
   "source": [
    "print(f\"My age is {age} and i have completed my degree of {degree} with the name of {name}. I'm here to learn {coursename}.\") "
   ]
  },
  {
   "cell_type": "code",
   "execution_count": 24,
   "id": "dce9ac0c-d3d2-4872-b7b7-e443e08dd7f7",
   "metadata": {},
   "outputs": [],
   "source": [
    "## Control flow\n",
    "### Desision Makig Statements"
   ]
  },
  {
   "cell_type": "markdown",
   "id": "b32f2f1c-9bf3-49e7-997d-93ca3695538b",
   "metadata": {},
   "source": [
    "## if Statement |conditions ==,>=,<=|"
   ]
  },
  {
   "cell_type": "code",
   "execution_count": 23,
   "id": "c9d338e0-ca05-48a4-ab4e-934e09252ceb",
   "metadata": {},
   "outputs": [
    {
     "name": "stdout",
     "output_type": "stream",
     "text": [
      "You are eligible for vote\n"
     ]
    }
   ],
   "source": [
    "age=35\n",
    "if age>=18:\n",
    "    print(\"You are eligible for vote\")"
   ]
  },
  {
   "cell_type": "code",
   "execution_count": 19,
   "id": "36783c4a-6f9d-4679-ba6f-cbb62d188ed4",
   "metadata": {},
   "outputs": [
    {
     "name": "stdin",
     "output_type": "stream",
     "text": [
      "Enter the age 35\n"
     ]
    },
    {
     "name": "stdout",
     "output_type": "stream",
     "text": [
      "You are young blood\n"
     ]
    }
   ],
   "source": [
    "##Task1\n",
    "## Take a input of age\n",
    "## check wheather age >=18 and age<=45\n",
    "## display a message you are yound blood\n",
    "\n",
    "age=int(input(\"Enter the age\"))\n",
    "if age>=18 and age<=45:\n",
    "    print(\"You are young blood\")"
   ]
  },
  {
   "cell_type": "code",
   "execution_count": 21,
   "id": "3e9f88bc-c2e1-4c43-9ec4-7f725ef03354",
   "metadata": {},
   "outputs": [
    {
     "name": "stdin",
     "output_type": "stream",
     "text": [
      "Enter the age 17\n"
     ]
    }
   ],
   "source": [
    "age=int(input(\"Enter the age\"))\n",
    "if age>=18 and age<=45:\n",
    "    print(\"You are young blood\")"
   ]
  },
  {
   "cell_type": "markdown",
   "id": "b61eef80-978a-4f86-910a-68bba3a1eaa3",
   "metadata": {},
   "source": [
    "## if else Statement using the Task 1 conditions |conditions ==,>=,<=|"
   ]
  },
  {
   "cell_type": "code",
   "execution_count": 26,
   "id": "5559c647-89ee-4529-a5f8-558efce3ef26",
   "metadata": {},
   "outputs": [
    {
     "name": "stdin",
     "output_type": "stream",
     "text": [
      "Enter the age 17\n"
     ]
    },
    {
     "name": "stdout",
     "output_type": "stream",
     "text": [
      "You are not eligible for this program\n"
     ]
    }
   ],
   "source": [
    "age=int(input(\"Enter the age\"))\n",
    "if age>=18 and age<=45:\n",
    "    print(\"You are eligible for this program\")\n",
    "else:\n",
    "    print(\"You are not eligible for this program\")"
   ]
  },
  {
   "cell_type": "code",
   "execution_count": 27,
   "id": "51f4179b-946c-4062-94ee-5309e6eef413",
   "metadata": {},
   "outputs": [
    {
     "name": "stdin",
     "output_type": "stream",
     "text": [
      "Enter the age 18\n"
     ]
    },
    {
     "name": "stdout",
     "output_type": "stream",
     "text": [
      "You are eligible for this program\n"
     ]
    }
   ],
   "source": [
    "age=int(input(\"Enter the age\"))\n",
    "if age>=18 and age<=45:\n",
    "    print(\"You are eligible for this program\")\n",
    "else:\n",
    "    print(\"You are not eligible for this program\")"
   ]
  },
  {
   "cell_type": "markdown",
   "id": "382aabe4-1e25-49aa-aa86-9fc20bb66178",
   "metadata": {
    "tags": []
   },
   "source": [
    "## Task2\n",
    "### Mall - Sale offer\n",
    "* product > 1000 rs 20% off\n",
    "* Product >1000rs 10% off\n",
    "* print the product price after removing the discount\n",
    "\n",
    "### Solution Statement\n",
    "* 1. input the product price\n",
    "* 2. use if statement for product >1000 rs 20% off\n",
    "* 3. use else statement for product <=1000 rs 10% off\n",
    "\n",
    "### Task 2.1\n",
    "* print the product price after removing the discount\n",
    "* define the product price with the calculation of product discount"
   ]
  },
  {
   "cell_type": "code",
   "execution_count": null,
   "id": "5228af2a-96dd-4155-9373-d77bc9345e11",
   "metadata": {},
   "outputs": [],
   "source": [
    "## print the product price after removing the discount\n",
    "\n",
    "## Soution 1:\n",
    "\n",
    "product_price=int(input(\"Enter the Product Price\"))\n",
    "if product_price>1000:\n",
    "    print(\"The final price of the product is {}.\".format(product_price*0.8))\n",
    "else:\n",
    "    print(\"The final price of product is {}.\".format(product_price*0.7))\n",
    "    "
   ]
  },
  {
   "cell_type": "code",
   "execution_count": null,
   "id": "a757aa94-bb59-4562-8d36-b388af3b6259",
   "metadata": {},
   "outputs": [],
   "source": []
  },
  {
   "cell_type": "code",
   "execution_count": null,
   "id": "5e177366-5a45-4784-9ba8-5f6ad262b03a",
   "metadata": {},
   "outputs": [],
   "source": []
  },
  {
   "cell_type": "code",
   "execution_count": null,
   "id": "a6604882-ac53-493a-921a-f5a15d77b031",
   "metadata": {},
   "outputs": [],
   "source": []
  },
  {
   "cell_type": "code",
   "execution_count": null,
   "id": "478f7953-c51f-473f-a64a-fa27abf4801a",
   "metadata": {},
   "outputs": [],
   "source": []
  }
 ],
 "metadata": {
  "kernelspec": {
   "display_name": "Python 3 (ipykernel)",
   "language": "python",
   "name": "python3"
  },
  "language_info": {
   "codemirror_mode": {
    "name": "ipython",
    "version": 3
   },
   "file_extension": ".py",
   "mimetype": "text/x-python",
   "name": "python",
   "nbconvert_exporter": "python",
   "pygments_lexer": "ipython3",
   "version": "3.10.8"
  }
 },
 "nbformat": 4,
 "nbformat_minor": 5
}
